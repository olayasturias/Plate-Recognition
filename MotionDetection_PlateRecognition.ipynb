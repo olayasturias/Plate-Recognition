{
 "cells": [
  {
   "cell_type": "code",
   "execution_count": 1,
   "metadata": {},
   "outputs": [],
   "source": [
    "import cv2\n",
    "import numpy as np\n",
    "from matplotlib import pyplot as plt\n",
    "import matplotlib.pylab as pylab\n",
    "pylab.rcParams['figure.figsize'] = 50, 50  # that's default image size for this interactive session\n",
    "from PIL import Image\n",
    "import pytesseract\n",
    "import argparse\n",
    "import imutils\n",
    "import random\n",
    "import os"
   ]
  },
  {
   "cell_type": "markdown",
   "metadata": {},
   "source": [
    "# Basic Motion Detection"
   ]
  },
  {
   "cell_type": "markdown",
   "metadata": {},
   "source": [
    "There are many, many ways to perform motion detection, tracking, and analysis in OpenCV. Some are very simple. And others are very complicated. The two primary methods are forms of Gaussian Mixture Model-based foreground and background segmentation.\n",
    "\n",
    "In newer versions of OpenCV we have Bayesian (probability) based foreground and background segmentation.\n",
    "\n",
    "All of these methods are concerned with segmenting the background from the foreground (and they even provide mechanisms for us to discern between actual motion and just shadowing and small lighting changes)\n",
    "\n",
    "Well, in motion detection, we tend to make the following assumption:\n",
    "\n",
    "The background of our video stream is largely static and unchanging over consecutive frames of a video. Therefore, if we can model the background, we monitor it for substantial changes. If there is a substantial change, we can detect it — this change normally corresponds to motion on our video.\n",
    "\n",
    "The methods I mentioned above, while very powerful, are also computationally expensive. And since our end goal is to deploy this system to a Raspberry Pi, it’s best that we stick to simple approaches."
   ]
  },
  {
   "cell_type": "code",
   "execution_count": 2,
   "metadata": {},
   "outputs": [],
   "source": [
    "# Initialize the first frame\n",
    "firstFrame = None\n",
    "# Open video\n",
    "cap = cv2.VideoCapture('matricula1.mp4')\n",
    "# Initialize array of images which will have the cropped pics\n",
    "cropped_imgs = []"
   ]
  },
  {
   "cell_type": "markdown",
   "metadata": {},
   "source": [
    "# Read video stream"
   ]
  },
  {
   "cell_type": "markdown",
   "metadata": {},
   "source": [
    "Assumption: The first frame of our video file will contain no motion and just background — therefore, we can model the background of our video stream using only the first frame of the video.\n",
    "\n",
    "In this portion of code we will extract the parts of each frame that present movement, thus removing unuseful parts of the frame."
   ]
  },
  {
   "cell_type": "code",
   "execution_count": 3,
   "metadata": {},
   "outputs": [],
   "source": [
    "#width to reescale image to\n",
    "width_res = 1000\n",
    "while(cap.isOpened()):\n",
    "    ret, frame = cap.read()\n",
    "    \n",
    "    \n",
    "    if cv2.waitKey(10) & 0xFF == ord('q') or not ret:\n",
    "        break\n",
    "\n",
    "    else:\n",
    "        # convert image to grayscale\n",
    "        gray = cv2.cvtColor(frame, cv2.COLOR_BGR2GRAY)\n",
    "\n",
    "        # If required, initialize firstFrame (first iteration)\n",
    "        if firstFrame is None:\n",
    "            # create mask for image. Only required in first iteration\n",
    "            mask = np.ones(gray.shape[:2], np.uint8)*255\n",
    "\n",
    "            h = 0\n",
    "            for j in range(0,700):\n",
    "                for i in range(0,1000-int(h*1.43)):\n",
    "                    mask[j][i] = 0\n",
    "                h = h+1\n",
    "            h = 0    \n",
    "            for j in range(0,720):\n",
    "                for i in range(1280-int(h*0.5),1280):\n",
    "                    mask[j][i] = 0\n",
    "                h=h+1\n",
    "    \n",
    "            mask[670:720, :] = 0\n",
    "\n",
    "            # Apply mask\n",
    "            masked_img = cv2.bitwise_and(gray,gray,mask = mask)\n",
    "        \n",
    "            # resize frame\n",
    "            resized = imutils.resize(masked_img, width=width_res)\n",
    "        \n",
    "            # apply Gaussian blur\n",
    "            gauss = cv2.GaussianBlur(resized, (41, 41), 0)\n",
    "            firstFrame = gauss\n",
    "            continue\n",
    "            \n",
    "        # Apply mask\n",
    "        masked_img = cv2.bitwise_and(gray,gray,mask = mask)\n",
    "        \n",
    "        # resize frame\n",
    "        resized = imutils.resize(masked_img, width=width_res)\n",
    "        \n",
    "        # apply Gaussian blur\n",
    "        gauss = cv2.GaussianBlur(resized, (41, 41), 0)\n",
    "        \n",
    "        # compute the absolute difference between the current frame and\n",
    "        # first frame\n",
    "        frameDelta = cv2.absdiff(firstFrame, gauss)\n",
    "        thresh_diff = cv2.threshold(frameDelta, 25, 255, cv2.THRESH_BINARY)[1]\n",
    "        \n",
    "        # dilate the thresholded image to fill in holes, then find contours\n",
    "        # on thresholded image\n",
    "        thresh_diff = cv2.dilate(thresh_diff, None, iterations=2)\n",
    "        (_,cnts, _) = cv2.findContours(thresh_diff.copy(), cv2.RETR_EXTERNAL,\n",
    "        cv2.CHAIN_APPROX_SIMPLE)\n",
    "        \n",
    "        # order the contours from big to smaller\n",
    "        cnts = sorted(cnts, key = cv2.contourArea, reverse = True)[:2]\n",
    "        \n",
    "        contour_area_prev = None\n",
    "        \n",
    "        # loop over the contours\n",
    "        for c in cnts:\n",
    "            # Obtain difference between previous and current area of contour\n",
    "            contour_area = cv2.contourArea(c)\n",
    "            # First iteration\n",
    "            if contour_area_prev == None:\n",
    "                contour_area_prev = cv2.contourArea(c)\n",
    "                \n",
    "            diff_areas = contour_area - contour_area_prev            \n",
    "            contour_area_prev = contour_area\n",
    "            \n",
    "            # if the contour is too small,or similar size to previous contour, ignore it\n",
    "            if contour_area < 1000 :\n",
    "                continue\n",
    "            # compute the bounding box for the contour, draw it on the frame,\n",
    "            # and update the text\n",
    "            (x, y, w, h) = cv2.boundingRect(c)\n",
    "            cv2.rectangle(gauss, (x, y), (x + w, y + h), (0, 255, 0), 2)\n",
    "            # Crop the image inside the contour. Doing it to image without gauss\n",
    "            # because otherwise the plate is not visible!!\n",
    "            crop_img = resized[y:y+h, x:x+w]\n",
    "            cropped_imgs.append(crop_img)\n",
    "            cv2.imshow(\"cropped\", crop_img)\n",
    "            \n",
    "\n",
    "        # show gray frame\n",
    "        cv2.imshow('frame', gauss)\n",
    "        \n",
    "cap.release()\n",
    "cv2.destroyAllWindows()"
   ]
  },
  {
   "cell_type": "markdown",
   "metadata": {},
   "source": [
    "# Lookup Table"
   ]
  },
  {
   "cell_type": "markdown",
   "metadata": {},
   "source": [
    "We will create a Lookup Table to improve the contrast in the image"
   ]
  },
  {
   "cell_type": "markdown",
   "metadata": {},
   "source": [
    "Create the Lut table as y = x³/255²"
   ]
  },
  {
   "cell_type": "code",
   "execution_count": 4,
   "metadata": {},
   "outputs": [],
   "source": [
    "lut = np.zeros(256,np.uint8)\n",
    "for i in range(0,256):\n",
    "    lut[i] = (i**3)/(255**2)"
   ]
  },
  {
   "cell_type": "markdown",
   "metadata": {},
   "source": [
    "Modify masked image with the Lookup table"
   ]
  },
  {
   "cell_type": "code",
   "execution_count": 5,
   "metadata": {},
   "outputs": [],
   "source": [
    "lut_img_array = []\n",
    "for pic in cropped_imgs:\n",
    "    lut_img = pic.copy()\n",
    "    cv2.LUT(pic,lut,lut_img)\n",
    "    lut_img_array.append(lut_img)"
   ]
  },
  {
   "cell_type": "markdown",
   "metadata": {},
   "source": [
    "## Blurring"
   ]
  },
  {
   "cell_type": "markdown",
   "metadata": {},
   "source": [
    "This is done by convolving image with a normalized box filter. It simply takes the average of all the pixels under kernel area and replace the central element. This is done by the function cv2.blur() or cv2.boxFilter(). Check the docs for more details about the kernel. We should specify the width and height of kernel. A 3x3 normalized box filter would look like below:"
   ]
  },
  {
   "cell_type": "code",
   "execution_count": 6,
   "metadata": {},
   "outputs": [],
   "source": [
    "blur_avg_array = []\n",
    "blur_gauss_array = []\n",
    "\n",
    "for lut in lut_img_array:\n",
    "    blur_avg = cv2.blur(lut,(2,2))\n",
    "    blur_avg_array.append(blur_avg)\n",
    "    blur_gauss = cv2.GaussianBlur(lut,(3,3),20,20)\n",
    "    blur_gauss_array.append(blur_gauss)\n"
   ]
  },
  {
   "cell_type": "markdown",
   "metadata": {},
   "source": [
    "### Let's print an example!"
   ]
  },
  {
   "cell_type": "code",
   "execution_count": 7,
   "metadata": {},
   "outputs": [
    {
     "data": {
      "image/png": "[encoded data removed]",
      "text/plain": [
       "<matplotlib.figure.Figure at 0x7f2bf8109bd0>"
      ]
     },
     "metadata": {},
     "output_type": "display_data"
    }
   ],
   "source": [
    "rdn = random.randrange(0, len(blur_avg_array), 1)        \n",
    "\n",
    "plt.subplot(311),plt.imshow(lut_img_array[rdn], 'gray'),plt.title('Original')\n",
    "plt.xticks([]), plt.yticks([])\n",
    "\n",
    "plt.subplot(312),plt.imshow(blur_avg_array[rdn], 'gray'),plt.title('Average')\n",
    "plt.xticks([]), plt.yticks([])\n",
    "\n",
    "plt.subplot(313),plt.imshow(blur_gauss_array[rdn], 'gray'),plt.title('Gauss')\n",
    "plt.xticks([]), plt.yticks([])\n",
    "\n",
    "plt.show()"
   ]
  },
  {
   "cell_type": "markdown",
   "metadata": {},
   "source": [
    "# Threshold"
   ]
  },
  {
   "cell_type": "code",
   "execution_count": 8,
   "metadata": {},
   "outputs": [
    {
     "data": {
      "image/png": "[encoded data removed]",
      "text/plain": [
       "<matplotlib.figure.Figure at 0x7f2c5574f610>"
      ]
     },
     "metadata": {},
     "output_type": "display_data"
    }
   ],
   "source": [
    "thresh_array = []\n",
    "threshavg_array = []\n",
    "thresgauss_array = []\n",
    "\n",
    "for i in range (len(lut_img_array)):\n",
    "    ret,thresh = cv2.threshold(lut_img_array[i],150,255,cv2.THRESH_BINARY)\n",
    "    thresh_array.append(thresh)\n",
    "    ret,threshavg = cv2.threshold(blur_avg_array[i],150,255,cv2.THRESH_BINARY)\n",
    "    threshavg_array.append(threshavg)\n",
    "    ret,thresgauss = cv2.threshold(blur_gauss_array[i],150,255,cv2.THRESH_BINARY)\n",
    "    thresgauss_array.append(thresgauss)\n",
    "\n",
    "plt.subplot(311),plt.imshow(thresh_array[rdn], cmap='gray')\n",
    "\n",
    "plt.subplot(312),plt.imshow(threshavg_array[rdn], cmap='gray')\n",
    "\n",
    "plt.subplot(313),plt.imshow(thresgauss_array[rdn], cmap='gray')\n",
    "plt.show()"
   ]
  },
  {
   "cell_type": "markdown",
   "metadata": {},
   "source": [
    "# Erosion"
   ]
  },
  {
   "cell_type": "code",
   "execution_count": 9,
   "metadata": {},
   "outputs": [
    {
     "data": {
      "image/png": "[encoded data removed]",
      "text/plain": [
       "<matplotlib.figure.Figure at 0x7f2bf81090d0>"
      ]
     },
     "metadata": {},
     "output_type": "display_data"
    }
   ],
   "source": [
    "kernel = np.ones((3,3),np.uint8)\n",
    "\n",
    "opening_array = []\n",
    "\n",
    "for th in threshavg_array:\n",
    "    opening = cv2.morphologyEx(th, cv2.MORPH_CLOSE, kernel)\n",
    "    #opening = cv2.dilate(threshavg, kernel,1)\n",
    "    opening_array.append(opening)\n",
    "\n",
    "plt.imshow(opening_array[rdn], 'gray'),plt.title('Erosion')\n",
    "plt.xticks([]), plt.yticks([])\n",
    "plt.show()"
   ]
  },
  {
   "cell_type": "markdown",
   "metadata": {},
   "source": [
    "# Find rectangle in the image"
   ]
  },
  {
   "cell_type": "markdown",
   "metadata": {},
   "source": [
    "## Find contours"
   ]
  },
  {
   "cell_type": "markdown",
   "metadata": {},
   "source": [
    " Python: cv2.findContours(image, mode, method[, contours[, hierarchy[, offset]]]) → contours, hierarchy\n",
    " \n",
    " mode: CV_RETR_EXTERNAL retrieves only the extreme outer contours. It sets hierarchy[i][2]=hierarchy[i][3]=-1 for all the contours. Porque no nos interesa lo que hay dentro de los rectángulos, solo el rectángulo en sí\n",
    " \n",
    " method: CV_CHAIN_APPROX_SIMPLE compresses horizontal, vertical, and diagonal segments and leaves only their end points. For example, an up-right rectangular contour is encoded with 4 points. Porque más adelante necesitaremos proporcionar a las funciones un array de puntos, no líneas\n",
    " \n",
    " sorting our contours, from largest to smallest, by calculating the area of the contour using cv2.contourArea. We now have only the 10 largest contours. "
   ]
  },
  {
   "cell_type": "code",
   "execution_count": 10,
   "metadata": {},
   "outputs": [],
   "source": [
    "cnts_array = []\n",
    "cnts_avg_array = []\n",
    "cnts_opening_array = []\n",
    "cnts_gauss_array = []\n",
    "\n",
    "for i in range (len(lut_img_array)):\n",
    "    _, contours, _= cv2.findContours(thresh_array[i].copy(), cv2.RETR_EXTERNAL, cv2.CHAIN_APPROX_SIMPLE)\n",
    "    cnts = sorted(contours, key = cv2.contourArea, reverse = True)[:10]\n",
    "    cnts_array.append(cnts)\n",
    "    \n",
    "    _, contours_avg, _= cv2.findContours(threshavg_array[i].copy(), cv2.RETR_EXTERNAL, cv2.CHAIN_APPROX_SIMPLE)\n",
    "    cnts_avg = sorted(contours_avg, key = cv2.contourArea, reverse = True)[:10]\n",
    "    cnts_avg_array.append(cnts_avg)\n",
    "    \n",
    "    _, contours_opening, _= cv2.findContours(opening_array[i].copy(), cv2.RETR_EXTERNAL, cv2.CHAIN_APPROX_SIMPLE)\n",
    "    cnts_opening = sorted(contours_opening, key = cv2.contourArea, reverse = True)[:10]\n",
    "    cnts_opening_array.append(cnts_opening)\n",
    "    \n",
    "    _, contours_gauss, _= cv2.findContours(thresgauss_array[i].copy(), cv2.RETR_EXTERNAL, cv2.CHAIN_APPROX_SIMPLE)\n",
    "    cnts_gauss = sorted(contours_gauss, key = cv2.contourArea, reverse = True)[:10]\n",
    "    cnts_gauss_array.append(cnts_gauss)\n",
    "    \n"
   ]
  },
  {
   "cell_type": "markdown",
   "metadata": {},
   "source": [
    "## Find rotated rectangle"
   ]
  },
  {
   "cell_type": "markdown",
   "metadata": {},
   "source": [
    "Here, bounding rectangle is drawn with minimum area, so it considers the rotation also. The function used is cv2.minAreaRect(). It returns a Box2D structure which contains following detals - ( center (x,y), (width, height), angle of rotation ). But to draw this rectangle, we need 4 corners of the rectangle. It is obtained by the function cv2.boxPoints()"
   ]
  },
  {
   "cell_type": "markdown",
   "metadata": {},
   "source": [
    "## Contours in original (LUT) image"
   ]
  },
  {
   "cell_type": "code",
   "execution_count": 11,
   "metadata": {},
   "outputs": [
    {
     "data": {
      "image/png": "[encoded data removed]",
      "text/plain": [
       "<matplotlib.figure.Figure at 0x7f2c0dd2efd0>"
      ]
     },
     "metadata": {},
     "output_type": "display_data"
    }
   ],
   "source": [
    "rect = []\n",
    "frame_aux_array = []\n",
    "\n",
    "for i in range(len(thresh_array)):\n",
    "    frame_aux = cv2.cvtColor(thresh_array[i].copy(),cv2.COLOR_GRAY2RGB)\n",
    "    for cont in cnts_array[i]:\n",
    "        # approximate the contour\n",
    "        peri = cv2.arcLength(cont, True)\n",
    "        approx = cv2.approxPolyDP(cont, 0.02 * peri, True)\n",
    "\n",
    "        # if our approximated contour has four points, then\n",
    "        # we can assume that we have found our screen\n",
    "        if len(approx) == 4:\n",
    "            cv2.drawContours(frame_aux,[approx],0,(0,255,0),2)\n",
    "    frame_aux_array.append(frame_aux)\n",
    "\n",
    "plt.imshow(frame_aux_array[rdn])\n",
    "plt.xticks([]), plt.yticks([])\n",
    "plt.show()"
   ]
  },
  {
   "cell_type": "markdown",
   "metadata": {},
   "source": [
    "### Contours with Gauss"
   ]
  },
  {
   "cell_type": "code",
   "execution_count": 12,
   "metadata": {},
   "outputs": [
    {
     "data": {
      "image/png": "[encoded data removed]",
      "text/plain": [
       "<matplotlib.figure.Figure at 0x7f2c5c036d50>"
      ]
     },
     "metadata": {},
     "output_type": "display_data"
    }
   ],
   "source": [
    "frame_aux_array = []\n",
    "\n",
    "for i in range(len(thresgauss_array)):\n",
    "    frame_aux = cv2.cvtColor(thresgauss_array[i].copy(),cv2.COLOR_GRAY2RGB)\n",
    "    for cont in cnts_gauss_array[i]:\n",
    "        # approximate the contour\n",
    "        peri = cv2.arcLength(cont, True)\n",
    "        approx = cv2.approxPolyDP(cont, 0.02 * peri, True)\n",
    "\n",
    "        # if our approximated contour has four points, then\n",
    "        # we can assume that we have found our screen\n",
    "        if len(approx) == 4:\n",
    "            cv2.drawContours(frame_aux,[approx],0,(0,255,0),2)\n",
    "    frame_aux_array.append(frame_aux)\n",
    "\n",
    "plt.imshow(frame_aux_array[rdn])\n",
    "plt.xticks([]), plt.yticks([])\n",
    "plt.show()"
   ]
  },
  {
   "cell_type": "markdown",
   "metadata": {},
   "source": [
    "###  Obtain contours with Averaged image"
   ]
  },
  {
   "cell_type": "code",
   "execution_count": 13,
   "metadata": {},
   "outputs": [
    {
     "data": {
      "image/png": "[encoded data removed]",
      "text/plain": [
       "<matplotlib.figure.Figure at 0x7f2c1c535cd0>"
      ]
     },
     "metadata": {},
     "output_type": "display_data"
    }
   ],
   "source": [
    "frame_aux_array = []\n",
    "\n",
    "for i in range(len(threshavg_array)):\n",
    "    frame_aux = cv2.cvtColor(threshavg_array[i].copy(),cv2.COLOR_GRAY2RGB)\n",
    "    for cont in cnts_avg_array[i]:\n",
    "        # approximate the contour\n",
    "        peri = cv2.arcLength(cont, True)\n",
    "        approx = cv2.approxPolyDP(cont, 0.02 * peri, True)\n",
    "\n",
    "        # if our approximated contour has four points, then\n",
    "        # we can assume that we have found our screen\n",
    "        if len(approx) == 4:\n",
    "            cv2.drawContours(frame_aux,[approx],0,(0,255,0),2)\n",
    "    frame_aux_array.append(frame_aux)\n",
    "\n",
    "plt.imshow(frame_aux_array[rdn])\n",
    "plt.xticks([]), plt.yticks([])\n",
    "plt.show()"
   ]
  },
  {
   "cell_type": "markdown",
   "metadata": {},
   "source": [
    "### Check all contours and find the rectangle with the License Plate"
   ]
  },
  {
   "cell_type": "markdown",
   "metadata": {},
   "source": [
    "First we keep all the contours which form a polygon. After that, we keep only those polygons which have 4 points (and thus, have to be a rectangle/square). Then, we save the corners of the polygon in order, to after check that it forms a rectangle.\n",
    "\n",
    "The way to determine if it is a rectangle, is by comparing the sizes of the sides (they must be similar 2 to 2)"
   ]
  },
  {
   "cell_type": "code",
   "execution_count": 14,
   "metadata": {
    "scrolled": true
   },
   "outputs": [
    {
     "name": "stdout",
     "output_type": "stream",
     "text": [
      "470\n",
      "470\n"
     ]
    },
    {
     "data": {
      "image/png": "[encoded data removed]",
      "text/plain": [
       "<matplotlib.figure.Figure at 0x7f2c0dcb6dd0>"
      ]
     },
     "metadata": {},
     "output_type": "display_data"
    }
   ],
   "source": [
    "# En esta variable almacenaremos el array con todos los contornos de todos los rectangulos. Los almacena en orden\n",
    "# luego hay que cogerlos de 4 en 4. En esta variable aun no valoramos si los rectangulos\n",
    "# tienen los lados iguales dos a dos.\n",
    "contornos_varios = []\n",
    "# En esta variable almacenamos los contornos que mejor se ajustan a una forma de rectángulo\n",
    "# para cada imagen\n",
    "best_rect_array = []\n",
    "# Lo voy a necesitar mas tarde para la homografia\n",
    "best_widthA_array = []\n",
    "best_widthB_array = []\n",
    "best_heightA_array = []\n",
    "best_heightB_array = []\n",
    "# esta variable ya esta creada, creo. comprobar despues si puedo borrar esta linea\n",
    "#frame_aux_array = cv2.cvtColor(thresgauss_array.copy(),cv2.COLOR_GRAY2RGB)\n",
    "rect = []\n",
    "\n",
    "n = 0\n",
    "\n",
    "for i in range(len(frame_aux_array)):\n",
    "    # Solo necesitamos la variable dentro del bucle, luego la inicializamos cada vez que \n",
    "    # entramos.\n",
    "    contornos_varios = []\n",
    "    for cont in cnts_avg_array[i]:\n",
    "        # approximate the contour\n",
    "        peri = cv2.arcLength(cont, True)\n",
    "        approx = cv2.approxPolyDP(cont, 0.02 * peri, True)\n",
    "\n",
    "        # if our approximated contour has four points, then\n",
    "        # we can assume that we have found our plate\n",
    "        if len(approx) == 4:\n",
    "            cv2.drawContours(frame_aux_array[i],[approx],0,(0,255,0),2)\n",
    "            screenCnt = approx \n",
    "            contornos_varios.append(screenCnt)\n",
    "        # Si no se detectan rectángulos, la variable contornos varios se queda vacia\n",
    "        # y necesitamos tener tantos contornos como imagenes. Luego si no se detecta contorno, cogemos\n",
    "        # la imagen entera\n",
    "        \n",
    "    \n",
    "    if len(contornos_varios) == 0:\n",
    "\n",
    "        height, width, channels = frame_aux_array[i].shape\n",
    "        contornos_varios = [np.array([[0,  0],[width,  0],[width,  height],[0,  height]])]\n",
    "\n",
    "\n",
    "    # Sometimes more than one rectangle appears. Let's check that it's rectangle shaped\n",
    "    init = True\n",
    "    best_widthA = 0\n",
    "    best_widthB = 0\n",
    "    best_heightA = 0\n",
    "    best_heightB = 0\n",
    "    \n",
    "\n",
    "    \n",
    "    for c in contornos_varios:\n",
    "\n",
    "        corners = c.reshape(4, 2)\n",
    "        rect = np.zeros((4, 2), dtype = \"float32\")\n",
    "        # Aquí vamos a comprobar el orden de los puntos. Lo vamos a necesitar ahora para \n",
    "        # comparar los lados dos a dos, y despues para hacer la homografía.\n",
    "        # Almacenamos los puntos en orden en la variable rect.\n",
    "        s = corners.sum(axis = 1)\n",
    "        #Top-left has the minimum sum\n",
    "        #Bottom-right has maximum sum\n",
    "        rect[0] = corners[np.argmin(s)]\n",
    "        rect[2] = corners[np.argmax(s)]\n",
    "        #Top-right has the minimum difference\n",
    "        #Bottom-left has the maximum difference\n",
    "        diff = np.diff(corners, axis = 1)\n",
    "        rect[1] = corners[np.argmin(diff)]\n",
    "        rect[3] = corners[np.argmax(diff)]\n",
    "\n",
    "\n",
    "    # Ahora a comprobar que SI es un rectangulo (lados iguales dos a dos)\n",
    "    # Comprobamos el rectangulo inicial con el anterior, luego al final solo nos quedamos\n",
    "    # con uno, que es el mejor de todos (el que menor diferencia entre lados dos a dos\n",
    "    # tiene)\n",
    "    if init: # if primera iteración\n",
    "        rect_ini=rect\n",
    "        init=False\n",
    "        (tl, tr, br, bl) = rect\n",
    "        best_widthA_ini = np.sqrt(((br[0] - bl[0]) ** 2) + ((br[1] - bl[1]) ** 2))\n",
    "        best_widthB_ini = np.sqrt(((tr[0] - tl[0]) ** 2) + ((tr[1] - tl[1]) ** 2))\n",
    "        best_heightA_ini = np.sqrt(((tr[0] - br[0]) ** 2) + ((tr[1] - br[1]) ** 2))\n",
    "        best_heightB_ini = np.sqrt(((tl[0] - bl[0]) ** 2) + ((tl[1] - bl[1]) ** 2))\n",
    "        best_diff_width = np.abs(best_widthA_ini-best_widthB_ini)\n",
    "        best_diff_height = np.abs(best_heightA_ini - best_heightB_ini)\n",
    "        diff_width = best_diff_width\n",
    "        diff_height = best_diff_height\n",
    "    else:\n",
    "        (tl, tr, br, bl) = rect\n",
    "        widthA = np.sqrt(((br[0] - bl[0]) ** 2) + ((br[1] - bl[1]) ** 2))\n",
    "        widthB = np.sqrt(((tr[0] - tl[0]) ** 2) + ((tr[1] - tl[1]) ** 2))\n",
    "        heightA = np.sqrt(((tr[0] - br[0]) ** 2) + ((tr[1] - br[1]) ** 2))\n",
    "        heightB = np.sqrt(((tl[0] - bl[0]) ** 2) + ((tl[1] - bl[1]) ** 2))\n",
    "        # valores absolutos, que valores negativos de longitud como que no\n",
    "        diff_width = np.abs(widthA-widthB)\n",
    "        diff_height = np.abs(heightA - heightB)\n",
    "\n",
    "    if diff_width < best_diff_width and diff_height < best_diff_height:\n",
    "        best_diff_height = diff_height\n",
    "        best_diff_width = diff_width\n",
    "        best_widthA_array.append(widthA)\n",
    "        best_widthB_array.append(widthB)\n",
    "        best_heightA_array.append(heightA)\n",
    "        best_heightB_array.append(heightB)\n",
    "        best_rect_array.append(rect)\n",
    "\n",
    "    else:\n",
    "        # Si ninguno de los valores cumple la anterior condicion, luego tendremos\n",
    "        # que quedarnos el valor inicial\n",
    "        best_rect_array.append(rect_ini)\n",
    "        best_widthA_array.append(best_widthA_ini)\n",
    "        best_widthB_array.append(best_widthB_ini)\n",
    "        best_heightA_array.append(best_heightA_ini)\n",
    "        best_heightB_array.append(best_heightB_ini)\n",
    "\n",
    "\n",
    "print len(cnts_avg_array)\n",
    "print len(best_rect_array)\n",
    "                \n",
    "plt.imshow(frame_aux_array[rdn])\n",
    "plt.xticks([]), plt.yticks([])\n",
    "plt.show()"
   ]
  },
  {
   "cell_type": "markdown",
   "metadata": {},
   "source": [
    "### Draw corner points"
   ]
  },
  {
   "cell_type": "code",
   "execution_count": 15,
   "metadata": {},
   "outputs": [
    {
     "data": {
      "image/png": "[encoded data removed]",
      "text/plain": [
       "<matplotlib.figure.Figure at 0x7f2c0dda9f10>"
      ]
     },
     "metadata": {},
     "output_type": "display_data"
    }
   ],
   "source": [
    "cv2.circle(frame_aux_array[rdn],(best_rect_array[rdn][0][0],best_rect_array[rdn][0][1]), 5, (255,128,0), -1)\n",
    "cv2.circle(frame_aux_array[rdn],(best_rect_array[rdn][1][0],best_rect_array[rdn][1][1]), 5, (127,0,100), -1)\n",
    "cv2.circle(frame_aux_array[rdn],(best_rect_array[rdn][2][0],best_rect_array[rdn][2][1]), 5, (255,0,0), -1)\n",
    "cv2.circle(frame_aux_array[rdn],(best_rect_array[rdn][3][0],best_rect_array[rdn][3][1]), 5, (255,255,0), -1)\n",
    "\n",
    "plt.imshow(frame_aux_array[rdn])\n",
    "plt.xticks([]), plt.yticks([])\n",
    "plt.show()"
   ]
  },
  {
   "cell_type": "markdown",
   "metadata": {},
   "source": [
    "# Obtain the Homography of the Plate"
   ]
  },
  {
   "cell_type": "markdown",
   "metadata": {},
   "source": [
    "Now we take the part of the frame that is inside the rectangle, an do the homography to correct the perspective. The results are shown below."
   ]
  },
  {
   "cell_type": "code",
   "execution_count": 16,
   "metadata": {
    "scrolled": true
   },
   "outputs": [
    {
     "data": {
      "image/png": "[encoded data removed]",
      "text/plain": [
       "<matplotlib.figure.Figure at 0x7f2bf8135c90>"
      ]
     },
     "metadata": {},
     "output_type": "display_data"
    }
   ],
   "source": [
    "#We want our new image height to be newHeight pixels.\n",
    "#Compute the ratio of the old height to the new height\n",
    "newHeight = 200\n",
    "# Initialize arrays of images\n",
    "warp_lut_array = []\n",
    "warp_gauss_array = []\n",
    "\n",
    "for i in range(len(thresh_array)):\n",
    "    orig_lut = thresh_array[i].copy()\n",
    "    orig_gauss = thresgauss_array[i].copy()\n",
    "    \n",
    "    # take the maximum of the width and height values to reach\n",
    "    # our final dimensions\n",
    "    maxWidth = max(int(best_widthA_array[i]), int(best_widthB_array[i]))\n",
    "    maxHeight = max(int(best_heightA_array[i]), int(best_heightB_array[i]))\n",
    "    \n",
    "    # construct our destination points which will be used to\n",
    "    # map the screen to a top-down view\n",
    "    dst = np.array([\n",
    "    [0, 0],\n",
    "    [maxWidth - 1, 0],\n",
    "    [maxWidth - 1, maxHeight - 1],\n",
    "    [0, maxHeight - 1]], dtype = \"float32\")\n",
    "    \n",
    "    # calculate the perspective transform matrix and warp\n",
    "    # the perspective to grab the screen\n",
    "    M = cv2.getPerspectiveTransform(best_rect_array[i], dst)\n",
    "    \n",
    "    # Obtain the modified image with perspective corrected\n",
    "    warp_lut_array.append(cv2.warpPerspective(orig_lut, M, (maxWidth, maxHeight)))\n",
    "    warp_gauss_array.append(cv2.warpPerspective(orig_gauss, M, (maxWidth, maxHeight)))\n",
    "    \n",
    "plt.subplot(211),plt.imshow(warp_lut_array[rdn],'gray')\n",
    "plt.xticks([]), plt.yticks([])\n",
    "plt.subplot(212),plt.imshow(warp_gauss_array[rdn],'gray')\n",
    "plt.xticks([]), plt.yticks([])\n",
    "plt.show()\n"
   ]
  },
  {
   "cell_type": "markdown",
   "metadata": {},
   "source": [
    "# Read text with pytesseract"
   ]
  },
  {
   "cell_type": "markdown",
   "metadata": {},
   "source": [
    "write the grayscale image to disk as a temporary file so we can\n",
    "apply OCR to it"
   ]
  },
  {
   "cell_type": "code",
   "execution_count": 17,
   "metadata": {},
   "outputs": [
    {
     "data": {
      "image/png": "[encoded data removed]",
      "text/plain": [
       "<matplotlib.figure.Figure at 0x7f2c0dc04050>"
      ]
     },
     "metadata": {},
     "output_type": "display_data"
    }
   ],
   "source": [
    "import uuid\n",
    "umbral_array = []\n",
    "filename_array = []\n",
    "\n",
    "for i in range(len(warp_lut_array)):\n",
    "    height = warp_lut_array[i].shape[0]\n",
    "    width  = warp_lut_array[i].shape[1]\n",
    "    crop_img = warp_lut_array[i][(int(height/15)):height, (int(width/90)):width]\n",
    "    cerrar = cv2.dilate(crop_img, (5,5),4)\n",
    "    ret,th = cv2.threshold(cerrar,150,255,cv2.THRESH_BINARY)\n",
    "    umbral_array.append(th)\n",
    "    # Generate random name to avoid overwriting\n",
    "    unique_filename = str(uuid.uuid4())\n",
    "    unique_filename = unique_filename+'.png'\n",
    "    filename_array.append(unique_filename.format(os.getpid()))\n",
    "    cv2.imwrite(filename_array[i], th)\n",
    "\n",
    "plt.imshow(umbral_array[rdn],'gray')\n",
    "plt.xticks([]), plt.yticks([])\n",
    "plt.show()"
   ]
  },
  {
   "cell_type": "markdown",
   "metadata": {},
   "source": [
    "Load image and apply OCR"
   ]
  },
  {
   "cell_type": "code",
   "execution_count": 18,
   "metadata": {},
   "outputs": [
    {
     "name": "stdout",
     "output_type": "stream",
     "text": [
      "53\n",
      "470\n",
      "[u'niui\\ufb02', u'27:] cm', u'27:] cm', u'2312 um', u'2312 um', u'Z332 URN', u'Z332 URN', u'2332 GRN', u'2332 GRN', u'2332 CNN', u'2332 CNN', u'2332 CNN', u'2332 GEM', u'2332 um', u'2332 URN', u'2332 URN', u'2332 URN', u'2332 GEM', u'2332 GEM', u'2332 GRH', u'2332 CNN', u'2332 CNN', u'2332 GRHx', u'2332 GRH', u'Z332 GRH', u'Z332 GRH', u'2332 GRH\\\\', u'2332 GRH\\\\', u'2332 GRH', u'2332 GRH', u'2332 GRH', u'M', u'\\u20182332 GRHw', u'\\u20182332 GRHw', u'12332 GRH\\u2018', u'\\u2018 -n', u'\\u2018 -n', u\"' ,w/\", u\"' ,w/\", u'2335\\u20187372H', u'2335\\u20187372H', u'2352 GRH\\u2018', u'2352 GRH\\u2018', u'233\\ufb01\\ufb01H', u'233???\\u201c', u'233???\\u201c', u\"' \\u2018\\\\\\n\\u2018\\xae:.IQ \\ufb02\", u\"' \\u2018\\\\\\n\\u2018\\xae:.IQ \\ufb02\", u\"4'\\u201c\", u\"4'\\u201c\", u'47', u'47', u'47']\n"
     ]
    }
   ],
   "source": [
    "matriculas = []\n",
    "for i in range(len(filename_array)):\n",
    "    matricula = pytesseract.image_to_string(Image.open(filename_array[i]))\n",
    "    os.remove(filename_array[i])\n",
    "    if matricula != '':\n",
    "        matriculas.append(matricula)\n",
    "    \n",
    "print len(matriculas)\n",
    "print len(filename_array)\n",
    "print matriculas"
   ]
  },
  {
   "cell_type": "markdown",
   "metadata": {},
   "source": [
    "Function to check wether s is a number or not"
   ]
  },
  {
   "cell_type": "code",
   "execution_count": 19,
   "metadata": {},
   "outputs": [],
   "source": [
    "def is_number(s):\n",
    "    try:\n",
    "        float(s)\n",
    "        return True\n",
    "    except ValueError:\n",
    "        return False\n",
    "    \n",
    "def is_letter(l):\n",
    "    return l.isalpha()\n",
    "    "
   ]
  },
  {
   "cell_type": "markdown",
   "metadata": {},
   "source": [
    "# Extract the Plate number"
   ]
  },
  {
   "cell_type": "markdown",
   "metadata": {},
   "source": [
    "We keep the text read in each frame. The next step is to check that all characters are alphanumeric. Onde this is done, sabe all values in a variable, to then objatin the mode of each value."
   ]
  },
  {
   "cell_type": "code",
   "execution_count": 20,
   "metadata": {},
   "outputs": [
    {
     "name": "stdout",
     "output_type": "stream",
     "text": [
      "['2', '3', '3', '2', 'G', 'R', 'N']\n",
      "['2', '3', '3', '2', 'G', 'R', 'N']\n",
      "['2', '3', '3', '2', 'C', 'N', 'N']\n",
      "['2', '3', '3', '2', 'C', 'N', 'N']\n",
      "['2', '3', '3', '2', 'C', 'N', 'N']\n",
      "['2', '3', '3', '2', 'G', 'E', 'M']\n",
      "['2', '3', '3', '2', 'U', 'R', 'N']\n",
      "['2', '3', '3', '2', 'U', 'R', 'N']\n",
      "['2', '3', '3', '2', 'U', 'R', 'N']\n",
      "['2', '3', '3', '2', 'G', 'E', 'M']\n",
      "['2', '3', '3', '2', 'G', 'E', 'M']\n",
      "['2', '3', '3', '2', 'G', 'R', 'H']\n",
      "['2', '3', '3', '2', 'C', 'N', 'N']\n",
      "['2', '3', '3', '2', 'C', 'N', 'N']\n",
      "['2', '3', '3', '2', 'G', 'R', 'H']\n",
      "['2', '3', '3', '2', 'G', 'R', 'H']\n",
      "['2', '3', '3', '2', 'G', 'R', 'H']\n",
      "['2', '3', '3', '2', 'G', 'R', 'H']\n",
      "['2', '3', '3', '2', 'G', 'R', 'H']\n",
      "['2', '3', '3', '2', 'G', 'R', 'H']\n",
      "['2', '3', '3', '5', '7', '3', 'H']\n",
      "['2', '3', '3', '5', '7', '3', 'H']\n",
      "['2', '3', '5', '2', 'G', 'R', 'H']\n",
      "['2', '3', '5', '2', 'G', 'R', 'H']\n",
      "24\n"
     ]
    }
   ],
   "source": [
    "matricula_corregida_array = []\n",
    "\n",
    "for plate in matriculas:\n",
    "    # inicializar cada vez para que no se acumulen las medidas\n",
    "    matricula_corregida = []\n",
    "    for i in range(len(plate)-1,4,-1):\n",
    "        if is_number(plate[i]) and not is_letter(plate[i]) or plate[i] == ' ':\n",
    "            break\n",
    "        elif is_letter(plate[i]):\n",
    "            try: # lanza excepcion si hay caracteres por ahi que no son unicode\n",
    "                matricula_corregida.insert(0,str(plate[i]))\n",
    "            except:\n",
    "                break\n",
    "\n",
    "\n",
    "    for i in range(len(plate)-4,-1,-1):\n",
    "        if is_number(plate[i]) and  not is_letter(plate[i]) and plate[i] != ' ':\n",
    "            matricula_corregida.insert(0,str(plate[i]))\n",
    "    if len(matricula_corregida) == 7:\n",
    "        matricula_corregida_array.append(matricula_corregida)\n",
    "        print matricula_corregida\n",
    "        \n",
    "    \n",
    "print len(matricula_corregida_array)"
   ]
  },
  {
   "cell_type": "code",
   "execution_count": 21,
   "metadata": {},
   "outputs": [
    {
     "name": "stderr",
     "output_type": "stream",
     "text": [
      "/usr/local/lib/python2.7/dist-packages/scipy/stats/stats.py:245: RuntimeWarning: The input array could not be properly checked for nan values. nan values will be ignored.\n",
      "  \"values. nan values will be ignored.\", RuntimeWarning)\n"
     ]
    },
    {
     "data": {
      "text/plain": [
       "ModeResult(mode=array([['2', '3', '3', '2', 'G', 'R', 'H']], \n",
       "      dtype='|S1'), count=array([[23, 23, 21, 21, 13, 13, 11]]))"
      ]
     },
     "execution_count": 21,
     "metadata": {},
     "output_type": "execute_result"
    }
   ],
   "source": [
    "from scipy import stats\n",
    "m = stats.mode(matricula_corregida_array[1 :])\n",
    "m"
   ]
  }
 ],
 "metadata": {
  "kernelspec": {
   "display_name": "Python 2",
   "language": "python",
   "name": "python2"
  },
  "language_info": {
   "codemirror_mode": {
    "name": "ipython",
    "version": 2
   },
   "file_extension": ".py",
   "mimetype": "text/x-python",
   "name": "python",
   "nbconvert_exporter": "python",
   "pygments_lexer": "ipython2",
   "version": "2.7.12"
  }
 },
 "nbformat": 4,
 "nbformat_minor": 2
}
